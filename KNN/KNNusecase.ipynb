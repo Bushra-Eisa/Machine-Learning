{
 "cells": [
  {
   "cell_type": "markdown",
   "id": "19460230-3b17-4eb8-b29a-2b3f96fa4314",
   "metadata": {},
   "source": [
    "<h1><b> Predicting whether or not someone will have diabetes </b></h1>"
   ]
  },
  {
   "cell_type": "code",
   "execution_count": 43,
   "id": "7b281656-2b9f-43ee-b0cf-da4fdfe9799f",
   "metadata": {},
   "outputs": [],
   "source": [
    "import pandas as pd\n",
    "import numpy as np\n",
    "from sklearn.model_selection import train_test_split #for splitting the data into testing and training\n",
    "from sklearn.preprocessing import StandardScaler # this is used to make sure there's no basis for large numbers\n",
    "from sklearn.neighbors import KNeighborsClassifier #the tool for classifing\n",
    "from sklearn.metrics import confusion_matrix #for testing\n",
    "from sklearn.metrics import f1_score #for testing\n",
    "from sklearn.metrics import accuracy_score #for testing"
   ]
  },
  {
   "cell_type": "code",
   "execution_count": 44,
   "id": "ae5185d0-b5ab-4d11-846d-e43525fb0b7e",
   "metadata": {},
   "outputs": [
    {
     "data": {
      "text/html": [
       "<div>\n",
       "<style scoped>\n",
       "    .dataframe tbody tr th:only-of-type {\n",
       "        vertical-align: middle;\n",
       "    }\n",
       "\n",
       "    .dataframe tbody tr th {\n",
       "        vertical-align: top;\n",
       "    }\n",
       "\n",
       "    .dataframe thead th {\n",
       "        text-align: right;\n",
       "    }\n",
       "</style>\n",
       "<table border=\"1\" class=\"dataframe\">\n",
       "  <thead>\n",
       "    <tr style=\"text-align: right;\">\n",
       "      <th></th>\n",
       "      <th>Pregnancies</th>\n",
       "      <th>Glucose</th>\n",
       "      <th>BloodPressure</th>\n",
       "      <th>SkinThickness</th>\n",
       "      <th>Insulin</th>\n",
       "      <th>BMI</th>\n",
       "      <th>DiabetesPedigreeFunction</th>\n",
       "      <th>Age</th>\n",
       "      <th>Outcome</th>\n",
       "    </tr>\n",
       "  </thead>\n",
       "  <tbody>\n",
       "    <tr>\n",
       "      <th>0</th>\n",
       "      <td>6</td>\n",
       "      <td>148</td>\n",
       "      <td>72</td>\n",
       "      <td>35</td>\n",
       "      <td>0</td>\n",
       "      <td>33.6</td>\n",
       "      <td>0.627</td>\n",
       "      <td>50</td>\n",
       "      <td>1</td>\n",
       "    </tr>\n",
       "    <tr>\n",
       "      <th>1</th>\n",
       "      <td>1</td>\n",
       "      <td>85</td>\n",
       "      <td>66</td>\n",
       "      <td>29</td>\n",
       "      <td>0</td>\n",
       "      <td>26.6</td>\n",
       "      <td>0.351</td>\n",
       "      <td>31</td>\n",
       "      <td>0</td>\n",
       "    </tr>\n",
       "    <tr>\n",
       "      <th>2</th>\n",
       "      <td>8</td>\n",
       "      <td>183</td>\n",
       "      <td>64</td>\n",
       "      <td>0</td>\n",
       "      <td>0</td>\n",
       "      <td>23.3</td>\n",
       "      <td>0.672</td>\n",
       "      <td>32</td>\n",
       "      <td>1</td>\n",
       "    </tr>\n",
       "    <tr>\n",
       "      <th>3</th>\n",
       "      <td>1</td>\n",
       "      <td>89</td>\n",
       "      <td>66</td>\n",
       "      <td>23</td>\n",
       "      <td>94</td>\n",
       "      <td>28.1</td>\n",
       "      <td>0.167</td>\n",
       "      <td>21</td>\n",
       "      <td>0</td>\n",
       "    </tr>\n",
       "    <tr>\n",
       "      <th>4</th>\n",
       "      <td>0</td>\n",
       "      <td>137</td>\n",
       "      <td>40</td>\n",
       "      <td>35</td>\n",
       "      <td>168</td>\n",
       "      <td>43.1</td>\n",
       "      <td>2.288</td>\n",
       "      <td>33</td>\n",
       "      <td>1</td>\n",
       "    </tr>\n",
       "  </tbody>\n",
       "</table>\n",
       "</div>"
      ],
      "text/plain": [
       "   Pregnancies  Glucose  BloodPressure  SkinThickness  Insulin   BMI  \\\n",
       "0            6      148             72             35        0  33.6   \n",
       "1            1       85             66             29        0  26.6   \n",
       "2            8      183             64              0        0  23.3   \n",
       "3            1       89             66             23       94  28.1   \n",
       "4            0      137             40             35      168  43.1   \n",
       "\n",
       "   DiabetesPedigreeFunction  Age  Outcome  \n",
       "0                     0.627   50        1  \n",
       "1                     0.351   31        0  \n",
       "2                     0.672   32        1  \n",
       "3                     0.167   21        0  \n",
       "4                     2.288   33        1  "
      ]
     },
     "execution_count": 44,
     "metadata": {},
     "output_type": "execute_result"
    }
   ],
   "source": [
    "dataset = pd.read_csv(r'C:\\Users\\HP\\Desktop\\Desktop\\python\\ML algorithms\\KNN_Dataset.csv')\n",
    "dataset.head()"
   ]
  },
  {
   "cell_type": "code",
   "execution_count": 45,
   "id": "c81a1acd-2d65-4f5c-b1a2-a0ffd8886792",
   "metadata": {},
   "outputs": [],
   "source": [
    "#Removing the 0s since it would be an error for most columns"
   ]
  },
  {
   "cell_type": "code",
   "execution_count": 46,
   "id": "f0c58076-88df-4f6f-8520-2332378be07f",
   "metadata": {},
   "outputs": [],
   "source": [
    "# we're replacing the zeros with numPy NULL and then creating the mean and replacing the NULLS with the mean\n",
    "# if we don't have the data aka NULL, we're gonna subsitute the missing data with the average\n",
    "\n",
    "zeros= ['Glucose', 'BloodPressure', 'SkinThickness', 'BMI', 'Insulin']\n",
    "\n",
    "for column in zeros:\n",
    "    dataset[column] = dataset[column].replace(0, np.NaN)\n",
    "    mean= int(dataset[column].mean(skipna=True))\n",
    "    dataset[column] = dataset[column].replace(np.NaN, mean)"
   ]
  },
  {
   "cell_type": "code",
   "execution_count": 47,
   "id": "7bd442ed-efd5-4476-8868-c9603c525e83",
   "metadata": {},
   "outputs": [],
   "source": [
    "# Now that we've dealt with any potential nulls, we can start the training:"
   ]
  },
  {
   "cell_type": "code",
   "execution_count": 48,
   "id": "0a5c4a1a-160f-4162-a8ab-d54c785b4211",
   "metadata": {},
   "outputs": [],
   "source": [
    "#split the data:\n",
    "X= dataset.iloc[:, 0:8] # 0:8 from column Pregnancies-Age, exculding the outcome\n",
    "y= dataset.iloc[:, 8] # Selecting only the last column, the outcome \n",
    "X_train, X_test, y_train, y_test = train_test_split(X,y, random_state=0, test_size=0.2)\n",
    "#the test size means that we're using 20% of the data to test with it later"
   ]
  },
  {
   "cell_type": "code",
   "execution_count": 20,
   "id": "efe3b823-d6f0-4d2a-bff0-95fd0897646f",
   "metadata": {},
   "outputs": [],
   "source": [
    "# Now we;re gonna feature scale using StandardScaler\n",
    "# The reason is that we want to standarize our data from -1 to 1 instead of a lot numbers \n",
    "# and we're only gonna use it on the training data"
   ]
  },
  {
   "cell_type": "code",
   "execution_count": 19,
   "id": "c841d7f9-dc1e-4bd2-be95-c70eb28738e3",
   "metadata": {},
   "outputs": [],
   "source": [
    "sc_X = StandardScaler()\n",
    "X_train= sc_X.fit_transform(X_train)\n",
    "X_test= sc_X.transform(X_test)"
   ]
  },
  {
   "cell_type": "code",
   "execution_count": 21,
   "id": "ef9eac44-4274-491c-b911-61c53be2c52f",
   "metadata": {},
   "outputs": [],
   "source": [
    "# Fit the data into the ML model"
   ]
  },
  {
   "cell_type": "code",
   "execution_count": 26,
   "id": "a6d60a32-a6ae-4573-9efe-844d06aa8fa9",
   "metadata": {},
   "outputs": [
    {
     "data": {
      "text/plain": [
       "12.409673645990857"
      ]
     },
     "execution_count": 26,
     "metadata": {},
     "output_type": "execute_result"
    }
   ],
   "source": [
    "import math\n",
    "math.sqrt(len(y_test)) # Since we're gonna use KNN to decide how to classify, we don't want EVEN numbers bc that would be like a tie in voting"
   ]
  },
  {
   "cell_type": "code",
   "execution_count": 49,
   "id": "1761bd2c-a59e-4d23-9ac9-5ab681ac07d8",
   "metadata": {},
   "outputs": [],
   "source": [
    "# we subtracted 1 from the above number (12-1=11) and used that as our n_neighbors, bc odd numbers are the way to go when comes to \"voting\"\n",
    "#p=2 bc we want to check if they're diabetic or not, so 2 options\n",
    "#euclidean is the most common meteric\n",
    "classifer = KNeighborsClassifier(n_neighbors=11, p=2, metric='euclidean') "
   ]
  },
  {
   "cell_type": "code",
   "execution_count": 34,
   "id": "6cf13b84-41e0-4952-9dff-18df4e2fc345",
   "metadata": {},
   "outputs": [
    {
     "data": {
      "text/plain": [
       "KNeighborsClassifier(metric='euclidean', n_neighbors=11)"
      ]
     },
     "execution_count": 34,
     "metadata": {},
     "output_type": "execute_result"
    }
   ],
   "source": [
    "classifer.fit(X_train, y_train)"
   ]
  },
  {
   "cell_type": "code",
   "execution_count": 35,
   "id": "1c2f813b-fc15-4452-b23e-e063c7fa217e",
   "metadata": {},
   "outputs": [
    {
     "data": {
      "text/plain": [
       "array([1, 0, 0, 1, 0, 0, 1, 1, 0, 0, 0, 1, 0, 0, 0, 0, 1, 0, 1, 0, 0, 0,\n",
       "       0, 0, 0, 0, 0, 1, 0, 0, 1, 0, 0, 1, 0, 1, 0, 0, 0, 1, 0, 0, 0, 1,\n",
       "       1, 0, 0, 0, 0, 0, 1, 0, 1, 0, 0, 0, 0, 0, 0, 0, 1, 0, 0, 1, 1, 1,\n",
       "       1, 0, 1, 0, 0, 0, 0, 1, 1, 0, 0, 1, 0, 0, 0, 0, 0, 0, 0, 0, 0, 0,\n",
       "       1, 0, 0, 0, 0, 0, 1, 0, 0, 1, 1, 1, 0, 0, 0, 0, 1, 0, 0, 0, 0, 1,\n",
       "       0, 0, 1, 1, 0, 1, 0, 1, 0, 1, 0, 0, 0, 0, 0, 0, 0, 0, 1, 0, 0, 0,\n",
       "       0, 1, 0, 0, 0, 0, 1, 0, 0, 1, 0, 0, 1, 0, 0, 0, 0, 0, 0, 0, 0, 0],\n",
       "      dtype=int64)"
      ]
     },
     "execution_count": 35,
     "metadata": {},
     "output_type": "execute_result"
    }
   ],
   "source": [
    "y_pred = classifer.predict(X_test)\n",
    "y_pred"
   ]
  },
  {
   "cell_type": "code",
   "execution_count": 36,
   "id": "eed4eb6c-69f9-4d76-9751-fb9144874894",
   "metadata": {},
   "outputs": [
    {
     "name": "stdout",
     "output_type": "stream",
     "text": [
      "[[92 15]\n",
      " [20 27]]\n"
     ]
    }
   ],
   "source": [
    "cm= confusion_matrix(y_test, y_pred)\n",
    "print(cm)"
   ]
  },
  {
   "cell_type": "code",
   "execution_count": 50,
   "id": "8898cc6f-a2e8-4d29-ae5e-928e44f8c3ea",
   "metadata": {},
   "outputs": [],
   "source": [
    "# 92 true positives, 15 false postives \n",
    "# 20 false negative, 27 true negatives"
   ]
  },
  {
   "cell_type": "code",
   "execution_count": 42,
   "id": "5bcea2d4-c089-49ce-ba26-6af53992431c",
   "metadata": {},
   "outputs": [
    {
     "name": "stdout",
     "output_type": "stream",
     "text": [
      "0.6067415730337079\n"
     ]
    }
   ],
   "source": [
    "print(f1_score(y_test, y_pred))"
   ]
  },
  {
   "cell_type": "code",
   "execution_count": 40,
   "id": "b7b9c1ad-760b-40d5-b2fb-b1d72451d62e",
   "metadata": {},
   "outputs": [
    {
     "name": "stdout",
     "output_type": "stream",
     "text": [
      "0.7727272727272727\n"
     ]
    }
   ],
   "source": [
    "print(accuracy_score(y_test, y_pred))"
   ]
  },
  {
   "cell_type": "markdown",
   "id": "29148233-be35-4785-81b0-4a9db5c6b183",
   "metadata": {},
   "source": [
    "<h2> We were able to predict with 72% accuracy whether or not someone is diabetic using KNN algorithm </h2>"
   ]
  }
 ],
 "metadata": {
  "kernelspec": {
   "display_name": "Python 3",
   "language": "python",
   "name": "python3"
  },
  "language_info": {
   "codemirror_mode": {
    "name": "ipython",
    "version": 3
   },
   "file_extension": ".py",
   "mimetype": "text/x-python",
   "name": "python",
   "nbconvert_exporter": "python",
   "pygments_lexer": "ipython3",
   "version": "3.8.8"
  }
 },
 "nbformat": 4,
 "nbformat_minor": 5
}
