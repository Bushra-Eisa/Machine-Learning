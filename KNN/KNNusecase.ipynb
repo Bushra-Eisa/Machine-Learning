{
 "cells": [
  {
   "cell_type": "markdown",
   "id": "19460230-3b17-4eb8-b29a-2b3f96fa4314",
   "metadata": {},
   "source": [
    "<h1><b> Predicting whether or not someone will have diabetes or not </b></h1>"
   ]
  },
  {
   "cell_type": "code",
   "execution_count": 4,
   "id": "7b281656-2b9f-43ee-b0cf-da4fdfe9799f",
   "metadata": {},
   "outputs": [],
   "source": [
    "import pandas as pd\n",
    "import numpy as np\n",
    "from sklearn.model_selection import train_test_split #for splitting the data into testing and training\n",
    "from sklearn.preprocessing import StandardScaler # this is used to make sure there's no basis for large numbers\n",
    "from sklearn.neighbors import KNeighborsClassifier #the tool for classifing\n",
    "from sklearn.metrics import confusion_matrix #for testing\n",
    "from sklearn.metrics import f1_score #for testing\n",
    "from sklearn.metrics import accuracy_score "
   ]
  },
  {
   "cell_type": "code",
   "execution_count": null,
   "id": "ae5185d0-b5ab-4d11-846d-e43525fb0b7e",
   "metadata": {},
   "outputs": [],
   "source": []
  }
 ],
 "metadata": {
  "kernelspec": {
   "display_name": "Python 3",
   "language": "python",
   "name": "python3"
  },
  "language_info": {
   "codemirror_mode": {
    "name": "ipython",
    "version": 3
   },
   "file_extension": ".py",
   "mimetype": "text/x-python",
   "name": "python",
   "nbconvert_exporter": "python",
   "pygments_lexer": "ipython3",
   "version": "3.8.8"
  }
 },
 "nbformat": 4,
 "nbformat_minor": 5
}
